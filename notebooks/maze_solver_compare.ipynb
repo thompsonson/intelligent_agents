{
 "cells": [
  {
   "cell_type": "code",
   "execution_count": null,
   "id": "a58656e9",
   "metadata": {},
   "outputs": [],
   "source": [
    "import sys\n",
    "sys.path.append('..')  # Add parent directory to path\n",
    "\n",
    "from maze_solver.visualization.reports import compare_search_algorithms\n",
    "\n"
   ]
  },
  {
   "cell_type": "code",
   "execution_count": null,
   "id": "319faccc",
   "metadata": {},
   "outputs": [],
   "source": [
    "\n",
    "# Run the comparison with a medium-sized maze\n",
    "# The function will automatically display the comparison table and charts\n",
    "maze_size = 15  # Adjust based on desired complexity\n",
    "maze_id = 42    # Fixed seed for reproducibility\n",
    "comparison_df, results, env = compare_search_algorithms(\n",
    "    maze_size=maze_size,\n",
    "    maze_id=maze_id,\n",
    "    show_visualizations=False  # Set to True to see algorithm visualizations during execution\n",
    ")\n",
    "\n",
    "# Now you can create dashboards to explore specific algorithms in detail\n",
    "# print(\"\\nCreating dashboards for visualization...\")\n",
    "\n",
    "# from maze_solver.visualization.dashboards.breadth_first_search import BFSDashboard\n",
    "# from maze_solver.visualization.dashboards.depth_first_search import DFSDashboard\n",
    "# from maze_solver.visualization.dashboards.greedy_best_first_search import GreedyBestFirstDashboard\n",
    "# from maze_solver.visualization.dashboards.a_star_search import AStarDashboard\n",
    "\n",
    "# Create dashboard for each algorithm\n",
    "# bfs_dashboard = BFSDashboard(env, results[\"BreadthFirstSearch\"])\n",
    "# dfs_dashboard = DFSDashboard(env, results[\"DepthFirstSearch\"])\n",
    "# greedy_dashboard = GreedyBestFirstDashboard(env, results[\"GreedyBestFirstSearch\"])\n",
    "# astar_dashboard = AStarDashboard(env, results[\"AStarSearch\"])\n",
    "\n",
    "# You can now visualize specific steps from each algorithm\n",
    "# print(\"\\nShowing step 3 from each algorithm:\")\n",
    "# bfs_dashboard.visualize_step(3)\n",
    "\n",
    "# Generate animations\n",
    "# print(\"\\nGenerating GIF animations (this may take a moment)...\")\n",
    "# bfs_dashboard.create_gif(filename=\"bfs_animation.gif\", fps=2)\n",
    "# dfs_dashboard.create_gif(filename=\"dfs_animation.gif\", fps=2)\n",
    "\n",
    "# Optionally, create graph-based visualizations\n",
    "# print(\"\\nCreating graph-based visualizations...\")\n",
    "# bfs_dashboard.animate_on_graph(output_file=\"bfs_graph.gif\", fps=3, size=6)"
   ]
  }
 ],
 "metadata": {
  "kernelspec": {
   "display_name": ".venv",
   "language": "python",
   "name": "python3"
  },
  "language_info": {
   "codemirror_mode": {
    "name": "ipython",
    "version": 3
   },
   "file_extension": ".py",
   "mimetype": "text/x-python",
   "name": "python",
   "nbconvert_exporter": "python",
   "pygments_lexer": "ipython3",
   "version": "3.12.6"
  }
 },
 "nbformat": 4,
 "nbformat_minor": 5
}
